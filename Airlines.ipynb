{
 "cells": [
  {
   "cell_type": "code",
   "execution_count": 1,
   "id": "fd7345e6",
   "metadata": {},
   "outputs": [],
   "source": [
    "import pandas as pd\n",
    "import numpy as np\n",
    "\n",
    "# Creating a synthetic dataset\n",
    "np.random.seed(42)\n",
    "\n",
    "data = {\n",
    "    'Airline': np.random.choice(['Airline_A', 'Airline_B', 'Airline_C'], 1000),\n",
    "    'Source': np.random.choice(['City_A', 'City_B', 'City_C', 'City_D'], 1000),\n",
    "    'Destination': np.random.choice(['City_E', 'City_F', 'City_G', 'City_H'], 1000),\n",
    "    'Duration': np.random.randint(1, 10, 1000),\n",
    "    'Total_Stops': np.random.randint(0, 5, 1000),\n",
    "    'Price': np.random.randint(3000, 15000, 1000)\n",
    "}\n",
    "\n",
    "df = pd.DataFrame(data)\n",
    "df.to_csv('flight_prices.csv', index=False)"
   ]
  },
  {
   "cell_type": "code",
   "execution_count": 2,
   "id": "a0bebf44",
   "metadata": {},
   "outputs": [
    {
     "name": "stdout",
     "output_type": "stream",
     "text": [
      "     Airline  Source Destination  Duration  Total_Stops  Price\n",
      "0  Airline_C  City_C      City_E         6            4   4505\n",
      "1  Airline_A  City_C      City_H         3            3   9460\n",
      "2  Airline_C  City_C      City_G         7            0  14767\n",
      "3  Airline_C  City_C      City_F         4            0   8167\n",
      "4  Airline_A  City_D      City_H         9            3  13147\n",
      "          Duration  Total_Stops         Price\n",
      "count  1000.000000  1000.000000   1000.000000\n",
      "mean      4.971000     1.953000   8925.219000\n",
      "std       2.552778     1.429978   3527.365109\n",
      "min       1.000000     0.000000   3016.000000\n",
      "25%       3.000000     1.000000   5853.250000\n",
      "50%       5.000000     2.000000   8891.000000\n",
      "75%       7.000000     3.000000  12083.750000\n",
      "max       9.000000     4.000000  14994.000000\n",
      "Airline        0\n",
      "Source         0\n",
      "Destination    0\n",
      "Duration       0\n",
      "Total_Stops    0\n",
      "Price          0\n",
      "dtype: int64\n"
     ]
    }
   ],
   "source": [
    "df = pd.read_csv('flight_prices.csv')\n",
    "\n",
    "# Display first few rows\n",
    "print(df.head())\n",
    "\n",
    "# Basic statistics\n",
    "print(df.describe())\n",
    "\n",
    "# Check for missing values\n",
    "print(df.isnull().sum())"
   ]
  },
  {
   "cell_type": "code",
   "execution_count": 3,
   "id": "f8c257ab",
   "metadata": {},
   "outputs": [
    {
     "name": "stdout",
     "output_type": "stream",
     "text": [
      "   Duration  Total_Stops  Price  Airline_Airline_B  Airline_Airline_C  \\\n",
      "0         6            4   4505                  0                  1   \n",
      "1         3            3   9460                  0                  0   \n",
      "2         7            0  14767                  0                  1   \n",
      "3         4            0   8167                  0                  1   \n",
      "4         9            3  13147                  0                  0   \n",
      "\n",
      "   Source_City_B  Source_City_C  Source_City_D  Destination_City_F  \\\n",
      "0              0              1              0                   0   \n",
      "1              0              1              0                   0   \n",
      "2              0              1              0                   0   \n",
      "3              0              1              0                   1   \n",
      "4              0              0              1                   0   \n",
      "\n",
      "   Destination_City_G  Destination_City_H  \n",
      "0                   0                   0  \n",
      "1                   0                   1  \n",
      "2                   1                   0  \n",
      "3                   0                   0  \n",
      "4                   0                   1  \n"
     ]
    }
   ],
   "source": [
    "# Convert categorical features to numerical\n",
    "df = pd.get_dummies(df, columns=['Airline', 'Source', 'Destination'], drop_first=True)\n",
    "\n",
    "# Display first few rows after encoding\n",
    "print(df.head())"
   ]
  },
  {
   "cell_type": "code",
   "execution_count": 4,
   "id": "978323cd",
   "metadata": {},
   "outputs": [
    {
     "name": "stdout",
     "output_type": "stream",
     "text": [
      "MAE: 3176.664415762427\n",
      "MSE: 13225323.239468193\n",
      "R2 Score: -0.027681481170563238\n"
     ]
    }
   ],
   "source": [
    "from sklearn.model_selection import train_test_split\n",
    "from sklearn.linear_model import LinearRegression\n",
    "from sklearn.metrics import mean_absolute_error, mean_squared_error, r2_score\n",
    "import pickle\n",
    "\n",
    "# Split data into training and testing sets\n",
    "X = df.drop('Price', axis=1)\n",
    "y = df['Price']\n",
    "X_train, X_test, y_train, y_test = train_test_split(X, y, test_size=0.2, random_state=42)\n",
    "\n",
    "# Create and train the model\n",
    "model = LinearRegression()\n",
    "model.fit(X_train, y_train)\n",
    "\n",
    "with open('linear_regression_model.pkl', 'wb') as file:\n",
    "    pickle.dump(model, file)\n",
    "\n",
    "# Make predictions\n",
    "y_pred = model.predict(X_test)\n",
    "\n",
    "# Evaluate the model\n",
    "mae = mean_absolute_error(y_test, y_pred)\n",
    "mse = mean_squared_error(y_test, y_pred)\n",
    "r2 = r2_score(y_test, y_pred)\n",
    "\n",
    "print(f\"MAE: {mae}\")\n",
    "print(f\"MSE: {mse}\")\n",
    "print(f\"R2 Score: {r2}\")"
   ]
  },
  {
   "cell_type": "code",
   "execution_count": 5,
   "id": "982bc00e",
   "metadata": {},
   "outputs": [
    {
     "data": {
      "text/plain": [
       "Index(['Duration', 'Total_Stops', 'Airline_Airline_B', 'Airline_Airline_C',\n",
       "       'Source_City_B', 'Source_City_C', 'Source_City_D', 'Destination_City_F',\n",
       "       'Destination_City_G', 'Destination_City_H'],\n",
       "      dtype='object')"
      ]
     },
     "execution_count": 5,
     "metadata": {},
     "output_type": "execute_result"
    }
   ],
   "source": [
    "X.columns"
   ]
  },
  {
   "cell_type": "code",
   "execution_count": null,
   "id": "101b3bb7",
   "metadata": {},
   "outputs": [],
   "source": []
  }
 ],
 "metadata": {
  "kernelspec": {
   "display_name": "Python 3 (ipykernel)",
   "language": "python",
   "name": "python3"
  },
  "language_info": {
   "codemirror_mode": {
    "name": "ipython",
    "version": 3
   },
   "file_extension": ".py",
   "mimetype": "text/x-python",
   "name": "python",
   "nbconvert_exporter": "python",
   "pygments_lexer": "ipython3",
   "version": "3.9.7"
  }
 },
 "nbformat": 4,
 "nbformat_minor": 5
}
